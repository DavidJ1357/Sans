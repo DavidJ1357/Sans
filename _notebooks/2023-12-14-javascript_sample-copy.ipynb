{
 "cells": [
  {
   "cell_type": "markdown",
   "metadata": {},
   "source": [
    "---\n",
    "toc: false\n",
    "comments: false\n",
    "layout: post\n",
    "title: Javascript\n",
    "description: A pretty advanced use of JavaScript building classic snake game using menu controls, key events, snake simulation and timers.\n",
    "type: tangibles\n",
    "courses: { compsci: {week: 2} }\n",
    "---"
   ]
  },
  {
   "cell_type": "code",
   "execution_count": 1,
   "metadata": {},
   "outputs": [
    {
     "data": {
      "application/javascript": "var hello = \"Hello World\";\n\n// getting a certain component of this text\n// (here the _ is a standin for the space character)\n// H  e  l  l  o  _  W  o  r  l  d\n// 0  1  2  3  4  5  6  7  8  9  10\n// if we want the hello component, we want characters 0-4, so we use the following function\n// (note how we use 0 and 5 as arguments, the last character is NOT INCLUSIVE)\nconsole.log(\"substring: hello 0, 5\")\nconsole.log(hello.substring(0, 5))\n",
      "text/plain": [
       "<IPython.core.display.Javascript object>"
      ]
     },
     "metadata": {},
     "output_type": "display_data"
    }
   ],
   "source": [
    "%%js\n",
    "var hello = \"Hello World\";\n",
    "\n",
    "// getting a certain component of this text\n",
    "// (here the _ is a standin for the space character)\n",
    "// H  e  l  l  o  _  W  o  r  l  d\n",
    "// 0  1  2  3  4  5  6  7  8  9  10\n",
    "// if we want the hello component, we want characters 0-4, so we use the following function\n",
    "// (note how we use 0 and 5 as arguments, the last character is NOT INCLUSIVE)\n",
    "console.log(\"substring: hello 0, 5\")\n",
    "console.log(hello.substring(0, 5))"
   ]
  },
  {
   "cell_type": "code",
   "execution_count": 6,
   "metadata": {},
   "outputs": [
    {
     "data": {
      "application/javascript": "console.log(\"Object: assigning key-value objects\")\nvar obj = {\n    name: \"Davide\",\n    age: 15\n};\n\n// The following is stored in the object called \"obj\"\n// {\n//     name: \"David\",\n//     age: 15\n// }\n//\n// The key \"name\" is associated with the string value \"David\"\n// The key \"age\" is associated with the number value 15\n// Notice that keys are of the type \"string\"\n\n// print obj to the console\nconsole.log(obj);\n// -> { name: 'David', age: 15 }\n// Notice that single quotes ' and double quotes \" can be used interchangeably\n\n// To access certain values within an object, also known as an object's fields,\n// you can use the name of the object suffixed with a dot and the name of the field\n// or using the square bracket notation shown below\nconsole.log(\"Object: using key name to access the name value (key notation)\")\nconsole.log(obj[\"name\"]);\nconsole.log(\"Object: using key name to access the name value (dot notation)\")\nconsole.log(obj.name);\n// -> David\n",
      "text/plain": [
       "<IPython.core.display.Javascript object>"
      ]
     },
     "metadata": {},
     "output_type": "display_data"
    }
   ],
   "source": [
    "%%js\n",
    "console.log(\"Object: assigning key-value objects\")\n",
    "var obj = {\n",
    "    name: \"Davide\",\n",
    "    age: 15\n",
    "};\n",
    "\n",
    "// The following is stored in the object called \"obj\"\n",
    "// {\n",
    "//     name: \"David\",\n",
    "//     age: 15\n",
    "// }\n",
    "//\n",
    "// The key \"name\" is associated with the string value \"David\"\n",
    "// The key \"age\" is associated with the number value 15\n",
    "// Notice that keys are of the type \"string\"\n",
    "\n",
    "// print obj to the console\n",
    "console.log(obj);\n",
    "// -> { name: 'David', age: 15 }\n",
    "// Notice that single quotes ' and double quotes \" can be used interchangeably\n",
    "\n",
    "// To access certain values within an object, also known as an object's fields,\n",
    "// you can use the name of the object suffixed with a dot and the name of the field\n",
    "// or using the square bracket notation shown below\n",
    "console.log(\"Object: using key name to access the name value (key notation)\")\n",
    "console.log(obj[\"name\"]);\n",
    "console.log(\"Object: using key name to access the name value (dot notation)\")\n",
    "console.log(obj.name);\n",
    "// -> David"
   ]
  }
 ],
 "metadata": {
  "kernelspec": {
   "display_name": "Python 3",
   "language": "python",
   "name": "python3"
  },
  "language_info": {
   "codemirror_mode": {
    "name": "ipython",
    "version": 3
   },
   "file_extension": ".py",
   "mimetype": "text/x-python",
   "name": "python",
   "nbconvert_exporter": "python",
   "pygments_lexer": "ipython3",
   "version": "3.10.12"
  }
 },
 "nbformat": 4,
 "nbformat_minor": 2
}
